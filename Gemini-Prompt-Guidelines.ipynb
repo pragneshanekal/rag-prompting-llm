{
 "cells": [
  {
   "cell_type": "markdown",
   "id": "b3694e81-71dd-4afd-b871-06bae80d6405",
   "metadata": {},
   "source": [
    "# Guidelines for Prompting\n",
    "\n",
    "This guide is designed to introduce and explain two key principles for crafting effective prompts for large language models. It also details the tactics associated with these principles. Upon learning these concepts, we will implement these techniques to develop a chatbot capable of processing orders from various restaurants.\n",
    "\n",
    "The two principles we will explore are:\n",
    "1. Write clear and specific instructions\n",
    "2. Give the model time to \"think\""
   ]
  },
  {
   "cell_type": "markdown",
   "id": "2c9743b0-cecb-43f0-8009-d2a6eb208c1b",
   "metadata": {},
   "source": [
    "## Setup\n",
    "#### Load the API key and relevant Python libaries."
   ]
  },
  {
   "cell_type": "code",
   "execution_count": 162,
   "id": "e0558fb1-e34e-4a86-87b6-bf48b32e4666",
   "metadata": {},
   "outputs": [],
   "source": [
    "#### Google Generative AI ####\n",
    "import google.generativeai as genai\n",
    "\n",
    "#### General ####\n",
    "import os\n",
    "from IPython.display import display, HTML, Markdown\n",
    "from redlines import Redlines\n",
    "\n",
    "#### UI ####\n",
    "import panel as pn"
   ]
  },
  {
   "cell_type": "code",
   "execution_count": 173,
   "id": "d42b8e64-9a60-43ff-89b1-200d0f01c654",
   "metadata": {},
   "outputs": [],
   "source": [
    "# Setup the API_KEY and display environment\n",
    "genai.configure(api_key=os.getenv('API_KEY'))\n",
    "pn.extension()\n",
    "panels = []\n",
    "\n",
    "# Configure the model \n",
    "model = genai.GenerativeModel(\n",
    "            model_name='gemini-1.5-pro-latest'"
   ]
  },
  {
   "cell_type": "markdown",
   "id": "f3d83804-d534-406d-8810-8119ea4718fd",
   "metadata": {},
   "source": [
    "#### Helper Function\n",
    "Throughout this notebook, we will use Google's `gemini-1.5-pro-latest` model and the [generate content API](https://ai.google.dev/api/python/google/generativeai/GenerativeModel#generate_content). \n",
    "\n",
    "This helper function will make it easier to use prompts and look at the generated outputs. This helper function is also used to create a chatbot at the end of the notebook, and hence is capable of multi-turn conversations as well."
   ]
  },
  {
   "cell_type": "code",
   "execution_count": null,
   "id": "2ede50b8-26ee-4d8f-8542-ef3342ead72f",
   "metadata": {},
   "outputs": [],
   "source": [
    "def get_response(prompt, messages=None, temperature=0):\n",
    "    if messages == None:\n",
    "        messages = []\n",
    "    \n",
    "    messages.append({'role': 'user', 'parts': [prompt]})\n",
    "    \n",
    "    # Set up the model\n",
    "    generation_config = {\n",
    "      \"temperature\": temperature,\n",
    "      \"top_p\": 1,\n",
    "      \"top_k\": 1,\n",
    "      \"max_output_tokens\": 2048,\n",
    "    }\n",
    "    \n",
    "    # Generate content based on user prompt\n",
    "    response = model.generate_content(\n",
    "                contents=messages,\n",
    "                generation_config=generation_config,\n",
    "            )\n",
    "    response_dict = {\n",
    "        'role': response.candidates[0].content.role,\n",
    "        'parts': [response.candidates[0].content.parts[0].text]\n",
    "    }\n",
    "    messages.append(response_dict)\n",
    "    \n",
    "    return messages"
   ]
  },
  {
   "cell_type": "markdown",
   "id": "aa9df23c-4b1c-431d-a4b5-c0c74d4b3233",
   "metadata": {},
   "source": [
    "## Prompting Principles\n",
    "- **Principle 1: Write clear and specific instructions**"
   ]
  },
  {
   "cell_type": "markdown",
   "id": "29b80010-4f59-48af-a7af-fa5f9d3268b6",
   "metadata": {},
   "source": [
    "### Clear and Specific Instructions\n",
    "\n",
    "#### Tactic 1: Use delimiters to clearly indicate distinct parts of the input\n",
    "- Delimiters can be anything like: ```, \"\"\", < >, `<tag> </tag>`, `:`"
   ]
  },
  {
   "cell_type": "code",
   "execution_count": 33,
   "id": "3e7c93f7",
   "metadata": {},
   "outputs": [
    {
     "name": "stdout",
     "output_type": "stream",
     "text": [
      "Provide explicit and specific instructions to guide models towards the desired output, avoiding irrelevant responses by utilizing longer prompts for more context and clarity.\n"
     ]
    }
   ],
   "source": [
    "text = f\"\"\"\n",
    "You should express what you want a model to do by \\ \n",
    "providing instructions that are as clear and \\ \n",
    "specific as you can possibly make them. \\ \n",
    "This will guide the model towards the desired output, \\ \n",
    "and reduce the chances of receiving irrelevant \\ \n",
    "or incorrect responses. Don't confuse writing a \\ \n",
    "clear prompt with writing a short prompt. \\ \n",
    "In many cases, longer prompts provide more clarity \\ \n",
    "and context for the model, which can lead to \\ \n",
    "more detailed and relevant outputs.\n",
    "\"\"\"\n",
    "prompt = f\"\"\"\n",
    "Summarize the text delimited by triple backticks \\ \n",
    "into a single sentence.\n",
    "```{text}```\n",
    "\"\"\"\n",
    "\n",
    "response = get_response(prompt)\n",
    "print(response[1]['parts'][0])"
   ]
  },
  {
   "cell_type": "markdown",
   "id": "49b00c5d-5bca-4cc6-9179-ed2a3f860cd2",
   "metadata": {},
   "source": [
    "#### Tactic 2: Ask for a structured output\n",
    "- JSON, HTML"
   ]
  },
  {
   "cell_type": "code",
   "execution_count": 35,
   "id": "535b9253",
   "metadata": {},
   "outputs": [
    {
     "name": "stdout",
     "output_type": "stream",
     "text": [
      "```json\n",
      "[\n",
      "  {\n",
      "    \"book_id\": 1,\n",
      "    \"title\": \"The Chronicles of the Azure Knight\",\n",
      "    \"author\": \"Aetheria Nightshade\",\n",
      "    \"genre\": \"Fantasy\"\n",
      "  },\n",
      "  {\n",
      "    \"book_id\": 2,\n",
      "    \"title\": \"The Quantum Enigma\",\n",
      "    \"author\": \"Orion Nebula\",\n",
      "    \"genre\": \"Science Fiction\"\n",
      "  },\n",
      "  {\n",
      "    \"book_id\": 3,\n",
      "    \"title\": \"Whispers of the Ancient Forest\",\n",
      "    \"author\": \"Emeralda Willowbrook\",\n",
      "    \"genre\": \"Nature Writing\"\n",
      "  }\n",
      "]\n",
      "```\n"
     ]
    }
   ],
   "source": [
    "prompt = f\"\"\"\n",
    "Generate a list of three made-up book titles along \\ \n",
    "with their authors and genres. \n",
    "Provide them in JSON format with the following keys: \n",
    "book_id, title, author, genre.\n",
    "\"\"\"\n",
    "\n",
    "response = get_response(prompt)\n",
    "print(response[1]['parts'][0])"
   ]
  },
  {
   "cell_type": "markdown",
   "id": "776d95d3-6b20-496f-9e29-e488bcca8915",
   "metadata": {},
   "source": [
    "#### Tactic 3: Ask the model to check whether conditions are satisfied"
   ]
  },
  {
   "cell_type": "code",
   "execution_count": 37,
   "id": "da1983a9",
   "metadata": {},
   "outputs": [
    {
     "name": "stdout",
     "output_type": "stream",
     "text": [
      "Completion for Text 1:\n",
      "Step 1 - Get some water boiling.\n",
      "Step 2 - Grab a cup and put a tea bag in it.\n",
      "Step 3 - Once the water is hot enough, pour it over the teabag.\n",
      "Step 4 - Let it sit for a bit so the tea can steep.\n",
      "Step 5 - Take out the tea bag.\n",
      "Step 6 - Add some sugar or milk to taste (optional).\n"
     ]
    }
   ],
   "source": [
    "text_1 = f\"\"\"\n",
    "Making a cup of tea is easy! First, you need to get some \\ \n",
    "water boiling. While that's happening, \\ \n",
    "grab a cup and put a tea bag in it. Once the water is \\ \n",
    "hot enough, just pour it over the tea bag. \\ \n",
    "Let it sit for a bit so the tea can steep. After a \\ \n",
    "few minutes, take out the tea bag. If you \\ \n",
    "like, you can add some sugar or milk to taste. \\ \n",
    "And that's it! You've got yourself a delicious \\ \n",
    "cup of tea to enjoy.\n",
    "\"\"\"\n",
    "prompt = f\"\"\"\n",
    "You will be provided with text delimited by triple quotes. \n",
    "If it contains a sequence of instructions, \\ \n",
    "re-write those instructions in the following format:\n",
    "\n",
    "Step 1 - ...\n",
    "Step 2 - …\n",
    "…\n",
    "Step N - …\n",
    "\n",
    "If the text does not contain a sequence of instructions, \\ \n",
    "then simply write \\\"No steps provided.\\\"\n",
    "\n",
    "\\\"\\\"\\\"{text_1}\\\"\\\"\\\"\n",
    "\"\"\"\n",
    "\n",
    "response = get_response(prompt)\n",
    "print(\"Completion for Text 1:\")\n",
    "print(response[1]['parts'][0])"
   ]
  },
  {
   "cell_type": "code",
   "execution_count": 38,
   "id": "b975bdba-7253-497a-b54b-cb6574807326",
   "metadata": {},
   "outputs": [
    {
     "name": "stdout",
     "output_type": "stream",
     "text": [
      "Completion for Text 2:\n",
      "No steps provided.\n"
     ]
    }
   ],
   "source": [
    "text_2 = f\"\"\"\n",
    "The sun is shining brightly today, and the birds are \\\n",
    "singing. It's a beautiful day to go for a \\ \n",
    "walk in the park. The flowers are blooming, and the \\ \n",
    "trees are swaying gently in the breeze. People \\ \n",
    "are out and about, enjoying the lovely weather. \\ \n",
    "Some are having picnics, while others are playing \\ \n",
    "games or simply relaxing on the grass. It's a \\ \n",
    "perfect day to spend time outdoors and appreciate the \\ \n",
    "beauty of nature.\n",
    "\"\"\"\n",
    "prompt = f\"\"\"\n",
    "You will be provided with text delimited by triple quotes. \n",
    "If it contains a sequence of instructions, \\ \n",
    "re-write those instructions in the following format:\n",
    "\n",
    "Step 1 - ...\n",
    "Step 2 - …\n",
    "…\n",
    "Step N - …\n",
    "\n",
    "If the text does not contain a sequence of instructions, \\ \n",
    "then simply write \\\"No steps provided.\\\"\n",
    "\n",
    "\\\"\\\"\\\"{text_2}\\\"\\\"\\\"\n",
    "\"\"\"\n",
    "response = get_response(prompt)\n",
    "print(\"Completion for Text 2:\")\n",
    "print(response[1]['parts'][0])"
   ]
  },
  {
   "cell_type": "markdown",
   "id": "930fbe49-dc83-4444-80ea-822e60b1dcca",
   "metadata": {},
   "source": [
    "#### Tactic 4: \"Few-shot\" prompting"
   ]
  },
  {
   "cell_type": "code",
   "execution_count": 39,
   "id": "056654f2-c330-4e2b-982e-2d83496b1467",
   "metadata": {},
   "outputs": [
    {
     "name": "stdout",
     "output_type": "stream",
     "text": [
      "<grandparent>: The willow bends with the wind, yet remains rooted in the earth; the waves crash against the shore, but the sand endures; the stars twinkle amidst the darkness.\n"
     ]
    }
   ],
   "source": [
    "prompt = f\"\"\"\n",
    "Your task is to answer in a consistent style.\n",
    "\n",
    "<child>: Teach me about patience.\n",
    "\n",
    "<grandparent>: The river that carves the deepest \\ \n",
    "valley flows from a modest spring; the \\ \n",
    "grandest symphony originates from a single note; \\ \n",
    "the most intricate tapestry begins with a solitary thread.\n",
    "\n",
    "<child>: Teach me about resilience.\n",
    "\"\"\"\n",
    "\n",
    "response = get_response(prompt)\n",
    "print(response[1]['parts'][0])"
   ]
  },
  {
   "cell_type": "markdown",
   "id": "cc343b49-9604-44ea-899c-7047ad870797",
   "metadata": {},
   "source": [
    "### Give the model time to “think” \n",
    "\n",
    "#### Tactic 1: Specify the steps required to complete a task"
   ]
  },
  {
   "cell_type": "code",
   "execution_count": 40,
   "id": "197d52fb-7073-45b4-ac88-9e1c23e4c7f7",
   "metadata": {},
   "outputs": [
    {
     "name": "stdout",
     "output_type": "stream",
     "text": [
      "Completion for prompt 1:\n",
      "### 1 - Summary ###\n",
      "In a charming village, siblings Jack and Jill embarked on an adventure to fetch water but faced a mishap along the way.\n",
      "\n",
      "### 2 - French Translation ###\n",
      "Dans un charmant village, les frères et sœurs Jack et Jill sont partis chercher de l'eau au puits situé au sommet d'une colline. Pendant leur ascension, ils chantaient joyeusement, mais le malheur a frappé - Jack a trébuché sur une pierre et a dégringolé la colline, suivi par Jill. Bien qu'ils soient légèrement amochés, ils sont rentrés chez eux pour se réconforter dans leurs bras. Malgré l'incident, leur esprit aventureux est resté intact et ils ont continué à explorer avec plaisir.\n",
      "\n",
      "### 3 - Names in French Summary ###\n",
      "* Jack\n",
      "* Jill\n",
      "\n",
      "### 4 - JSON Object ###\n",
      "```\n",
      "{\n",
      "  \"french_summary\": \"Dans un charmant village, les frères et sœurs Jack et Jill sont partis chercher de l'eau au puits situé au sommet d'une colline. Pendant leur ascension, ils chantaient joyeusement, mais le malheur a frappé - Jack a trébuché sur une pierre et a dégringolé la colline, suivi par Jill. Bien qu'ils soient légèrement amochés, ils sont rentrés chez eux pour se réconforter dans leurs bras. Malgré l'incident, leur esprit aventureux est resté intact et ils ont continué à explorer avec plaisir.\",\n",
      "  \"num_names\": 2\n",
      "}\n",
      "```\n"
     ]
    }
   ],
   "source": [
    "text = f\"\"\"\n",
    "In a charming village, siblings Jack and Jill set out on \\ \n",
    "a quest to fetch water from a hilltop \\ \n",
    "well. As they climbed, singing joyfully, misfortune \\ \n",
    "struck—Jack tripped on a stone and tumbled \\ \n",
    "down the hill, with Jill following suit. \\ \n",
    "Though slightly battered, the pair returned home to \\ \n",
    "comforting embraces. Despite the mishap, \\ \n",
    "their adventurous spirits remained undimmed, and they \\ \n",
    "continued exploring with delight.\n",
    "\"\"\"\n",
    "# example 1\n",
    "prompt_1 = f\"\"\"\n",
    "Perform the following actions: \n",
    "1 - Summarize the following text delimited by triple \\\n",
    "backticks with 1 sentence.\n",
    "2 - Translate the summary into French.\n",
    "3 - List each name in the French summary.\n",
    "4 - Output a json object that contains the following \\\n",
    "keys: french_summary, num_names.\n",
    "\n",
    "Separate your answers with line breaks.\n",
    "\n",
    "Text:\n",
    "```{text}```\n",
    "\"\"\"\n",
    "\n",
    "response = get_response(prompt_1)\n",
    "print(\"Completion for prompt 1:\")\n",
    "print(response[1]['parts'][0])"
   ]
  },
  {
   "cell_type": "markdown",
   "id": "47381157-9044-473d-92c3-0def2545034e",
   "metadata": {},
   "source": [
    "**Ask for output in a specified format**"
   ]
  },
  {
   "cell_type": "code",
   "execution_count": 44,
   "id": "27cbdbd9-115a-4b29-86d0-f9dd5d7cdcd2",
   "metadata": {},
   "outputs": [
    {
     "name": "stdout",
     "output_type": "stream",
     "text": [
      "Completion for prompt 2:\n",
      "\n",
      "Summary: Jack and Jill, siblings from a charming village, embarked on a quest to fetch water but encountered a mishap on their way.\n",
      "Translation: Jack et Jill, deux frères et sœurs d'un charmant village, se sont lancés dans une quête pour aller chercher de l'eau mais ont rencontré un incident sur leur chemin.\n",
      "Names: \n",
      "- Jack\n",
      "- Jill\n",
      "Output JSON: {\n",
      "  \"french_summary\": \"Jack et Jill, deux frères et sœurs d'un charmant village, se sont lancés dans une quête pour aller chercher de l'eau mais ont rencontré un incident sur leur chemin.\",\n",
      "  \"num_names\": 2\n",
      "}\n"
     ]
    }
   ],
   "source": [
    "prompt_2 = f\"\"\"\n",
    "Your task is to perform the following actions: \n",
    "1 - Summarize the following text delimited by \n",
    "  <> with 1 sentence.\n",
    "2 - Translate the summary into French.\n",
    "3 - List each name in the French summary.\n",
    "4 - Output a json object that contains the \n",
    "  following keys: french_summary, num_names.\n",
    "\n",
    "Use the following format:\n",
    "Text: <text to summarize>\n",
    "Summary: <summary>\n",
    "Translation: <summary translation>\n",
    "Names: <list of names in summary>\n",
    "Output JSON: <json with summary and num_names>\n",
    "\n",
    "Text: <{text}>\n",
    "\"\"\"\n",
    "response = get_response(prompt_2)\n",
    "print(\"Completion for prompt 2:\\n\")\n",
    "print(response[1]['parts'][0])"
   ]
  },
  {
   "cell_type": "markdown",
   "id": "b2a07353-130d-4d6e-89ce-ced9c31c2d92",
   "metadata": {},
   "source": [
    "#### Tactic 2: Instruct the model to work out its own solution before rushing to a conclusion"
   ]
  },
  {
   "cell_type": "code",
   "execution_count": 45,
   "id": "29247ce8-a44a-4e48-a65b-369ffee11e36",
   "metadata": {},
   "outputs": [
    {
     "name": "stdout",
     "output_type": "stream",
     "text": [
      "The student's solution is correct.\n"
     ]
    }
   ],
   "source": [
    "prompt = f\"\"\"\n",
    "Determine if the student's solution is correct or not.\n",
    "\n",
    "Question:\n",
    "I'm building a solar power installation and I need \\\n",
    " help working out the financials. \n",
    "- Land costs $100 / square foot\n",
    "- I can buy solar panels for $250 / square foot\n",
    "- I negotiated a contract for maintenance that will cost \\ \n",
    "me a flat $100k per year, and an additional $10 / square \\\n",
    "foot\n",
    "What is the total cost for the first year of operations \n",
    "as a function of the number of square feet.\n",
    "\n",
    "Student's Solution:\n",
    "Let x be the size of the installation in square feet.\n",
    "Costs:\n",
    "1. Land cost: 100x\n",
    "2. Solar panel cost: 250x\n",
    "3. Maintenance cost: 100,000 + 100x\n",
    "Total cost: 100x + 250x + 100,000 + 100x = 450x + 100,000\n",
    "\"\"\"\n",
    "\n",
    "response = get_response(prompt)\n",
    "print(response[1]['parts'][0])"
   ]
  },
  {
   "cell_type": "markdown",
   "id": "e2e5bd93-4cb4-41a3-a5d2-363dce957112",
   "metadata": {},
   "source": [
    "**Note that the student's solution is actually not correct.**\n",
    "\n",
    "**We can fix this by instructing the model to work out its own solution first.**"
   ]
  },
  {
   "cell_type": "code",
   "execution_count": 46,
   "id": "09a656d5-4daf-4b7c-b245-46756701e677",
   "metadata": {},
   "outputs": [
    {
     "name": "stdout",
     "output_type": "stream",
     "text": [
      "Let x be the size of the installation in square feet.\n",
      "Costs:\n",
      "1. Land cost: 100x\n",
      "2. Solar panel cost: 250x\n",
      "3. Maintenance cost: 100,000 + 10x\n",
      "Total cost: 100x + 250x + 100,000 + 10x = 360x + 100,000\n",
      "Is the student's solution the same as actual solution just calculated:\n",
      "```\n",
      "no\n",
      "```\n",
      "Student grade:\n",
      "```\n",
      "incorrect\n",
      "```\n"
     ]
    }
   ],
   "source": [
    "prompt = f\"\"\"\n",
    "Your task is to determine if the student's solution \\\n",
    "is correct or not.\n",
    "To solve the problem do the following:\n",
    "- First, work out your own solution to the problem including the final total. \n",
    "- Then compare your solution to the student's solution \\ \n",
    "and evaluate if the student's solution is correct or not. \n",
    "Don't decide if the student's solution is correct until \n",
    "you have done the problem yourself.\n",
    "\n",
    "Use the following format:\n",
    "Question:\n",
    "```\n",
    "question here\n",
    "```\n",
    "Student's solution:\n",
    "```\n",
    "student's solution here\n",
    "```\n",
    "Actual solution:\n",
    "```\n",
    "steps to work out the solution and your solution here\n",
    "```\n",
    "Is the student's solution the same as actual solution \\\n",
    "just calculated:\n",
    "```\n",
    "yes or no\n",
    "```\n",
    "Student grade:\n",
    "```\n",
    "correct or incorrect\n",
    "```\n",
    "\n",
    "Question:\n",
    "```\n",
    "I'm building a solar power installation and I need help \\\n",
    "working out the financials. \n",
    "- Land costs $100 / square foot\n",
    "- I can buy solar panels for $250 / square foot\n",
    "- I negotiated a contract for maintenance that will cost \\\n",
    "me a flat $100k per year, and an additional $10 / square \\\n",
    "foot\n",
    "What is the total cost for the first year of operations \\\n",
    "as a function of the number of square feet.\n",
    "``` \n",
    "Student's solution:\n",
    "```\n",
    "Let x be the size of the installation in square feet.\n",
    "Costs:\n",
    "1. Land cost: 100x\n",
    "2. Solar panel cost: 250x\n",
    "3. Maintenance cost: 100,000 + 100x\n",
    "Total cost: 100x + 250x + 100,000 + 100x = 450x + 100,000\n",
    "```\n",
    "Actual solution:\n",
    "\"\"\"\n",
    "\n",
    "response = get_response(prompt)\n",
    "print(response[1]['parts'][0])"
   ]
  },
  {
   "cell_type": "markdown",
   "id": "75cceeee-5dbb-48af-a147-651bccb6e10a",
   "metadata": {},
   "source": [
    "## Model Limitations: Hallucinations\n",
    "- Boie is a real company, however the product name is not real."
   ]
  },
  {
   "cell_type": "code",
   "execution_count": 47,
   "id": "a5706cd3-f0da-430b-bb2c-08d101b8bf86",
   "metadata": {},
   "outputs": [
    {
     "name": "stdout",
     "output_type": "stream",
     "text": [
      "**AeroGlide UltraSlim Smart Toothbrush by Boie**\n",
      "\n",
      "The AeroGlide UltraSlim Smart Toothbrush is a cutting-edge oral hygiene device that combines advanced technology with exceptional design.\n",
      "\n",
      "**Features:**\n",
      "\n",
      "* **Supersonic Motor:** Generates up to 48,000 vibrations per minute for unparalleled plaque removal and efficient cleaning.\n",
      "* **Ultra-Slim Brush Head:** Designed to reach and clean even the most difficult-to-reach areas, like back molars.\n",
      "* **Pressure Sensor:** Monitors brushing pressure and alerts you if you're brushing too hard to prevent gum damage.\n",
      "* **Bluetooth Connectivity:** Pairs with the Boie app for real-time brushing data, personalized guidance, and reminders.\n",
      "* **Customized Brushing Modes:** Six pre-programmed modes (Clean, Sensitive, Massage, Polish, Deep Clean, Tongue Care) to tailor your brushing experience.\n",
      "* **Quad-Zone Timer:** Guides you through a thorough 2-minute brushing session, dividing your mouth into four zones for even coverage.\n",
      "* **Quad-Pacer Interval Timer:** Pauses the brush head every 30 seconds to encourage proper brushing technique.\n",
      "* **Ergonomic Design:** Sleek and lightweight handle with a non-slip grip for comfortable handling.\n",
      "* **Rechargeable Battery:** Up to 30 days of battery life on a single charge with USB-C fast charging.\n",
      "\n",
      "**Benefits:**\n",
      "\n",
      "* Removes up to 100% more plaque than manual toothbrushes.\n",
      "* Reduces gum inflammation and improves overall oral health.\n",
      "* Provides a personalized brushing experience tailored to your needs.\n",
      "* Tracks your brushing habits and motivates you to maintain optimal dental hygiene.\n",
      "* Makes brushing fun and engaging with gamified features in the Boie app.\n",
      "\n",
      "**Package Contents:**\n",
      "\n",
      "* AeroGlide UltraSlim Smart Toothbrush\n",
      "* Six replacement brush heads\n",
      "* USB-C charging cable\n",
      "* Travel case\n"
     ]
    }
   ],
   "source": [
    "prompt = f\"\"\"\n",
    "Tell me about AeroGlide UltraSlim Smart Toothbrush by Boie\n",
    "\"\"\"\n",
    "\n",
    "response = get_response(prompt)\n",
    "print(response)"
   ]
  },
  {
   "cell_type": "markdown",
   "id": "98861ffa-4d7d-4626-b260-a5c9a3cb650f",
   "metadata": {},
   "source": [
    "## Iterative Prompt Development\n",
    "Iteratively analyze and refine prompts to generate marketing copy from a product fact sheet.\n",
    "\n",
    "### Generate a marketing product description from a product fact sheet"
   ]
  },
  {
   "cell_type": "code",
   "execution_count": 48,
   "id": "be62ab97-bea8-4506-84a6-f1056d1b6426",
   "metadata": {},
   "outputs": [],
   "source": [
    "fact_sheet_chair = \"\"\"\n",
    "OVERVIEW\n",
    "- Part of a beautiful family of mid-century inspired office furniture, \n",
    "including filing cabinets, desks, bookcases, meeting tables, and more.\n",
    "- Several options of shell color and base finishes.\n",
    "- Available with plastic back and front upholstery (SWC-100) \n",
    "or full upholstery (SWC-110) in 10 fabric and 6 leather options.\n",
    "- Base finish options are: stainless steel, matte black, \n",
    "gloss white, or chrome.\n",
    "- Chair is available with or without armrests.\n",
    "- Suitable for home or business settings.\n",
    "- Qualified for contract use.\n",
    "\n",
    "CONSTRUCTION\n",
    "- 5-wheel plastic coated aluminum base.\n",
    "- Pneumatic chair adjust for easy raise/lower action.\n",
    "\n",
    "DIMENSIONS\n",
    "- WIDTH 53 CM | 20.87”\n",
    "- DEPTH 51 CM | 20.08”\n",
    "- HEIGHT 80 CM | 31.50”\n",
    "- SEAT HEIGHT 44 CM | 17.32”\n",
    "- SEAT DEPTH 41 CM | 16.14”\n",
    "\n",
    "OPTIONS\n",
    "- Soft or hard-floor caster options.\n",
    "- Two choices of seat foam densities: \n",
    " medium (1.8 lb/ft3) or high (2.8 lb/ft3)\n",
    "- Armless or 8 position PU armrests \n",
    "\n",
    "MATERIALS\n",
    "SHELL BASE GLIDER\n",
    "- Cast Aluminum with modified nylon PA6/PA66 coating.\n",
    "- Shell thickness: 10 mm.\n",
    "SEAT\n",
    "- HD36 foam\n",
    "\n",
    "COUNTRY OF ORIGIN\n",
    "- Italy\n",
    "\"\"\""
   ]
  },
  {
   "cell_type": "code",
   "execution_count": 49,
   "id": "803fb525-4510-4712-82ca-409f0690ea16",
   "metadata": {},
   "outputs": [
    {
     "name": "stdout",
     "output_type": "stream",
     "text": [
      "Indulge in mid-century sophistication with our exceptional SWC office chair. Its sleek design seamlessly integrates into both home and business environments, exuding timeless elegance. With a vast selection of shell colors and base finishes, you can tailor it to your unique aesthetics.\n",
      "\n",
      "Choose from plastic back and front upholstery (SWC-100) or enveloping full upholstery (SWC-110) in a spectrum of 10 fabrics and 6 leathers. Whether you prefer stainless steel, matte black, gloss white, or chrome, our versatile base options complement your décor flawlessly.\n",
      "\n",
      "Crafted in Italy, this chair prioritizes both comfort and durability. Its pneumatic adjustment ensures effortless height customization, while its 5-wheel plastic coated aluminum base glides smoothly across surfaces. Select soft or hard-floor casters for optimal maneuverability.\n",
      "\n",
      "Customize your seating experience with two foam density options – medium (1.8 lb/ft3) or high (2.8 lb/ft3) – and choose from armless or 8-position PU armrests to enhance support and comfort. Discover the perfect chair to elevate your workspace today!\n"
     ]
    }
   ],
   "source": [
    "prompt = f\"\"\"\n",
    "Your task is to help a marketing team create a \n",
    "description for a retail website of a product based \n",
    "on a technical fact sheet.\n",
    "\n",
    "Write a product description based on the information \n",
    "provided in the technical specifications delimited by \n",
    "triple backticks.\n",
    "\n",
    "Technical specifications: ```{fact_sheet_chair}```\n",
    "\"\"\"\n",
    "\n",
    "response = get_response(prompt)\n",
    "print(response[1]['parts'][0])"
   ]
  },
  {
   "cell_type": "markdown",
   "id": "f2d219a8-53cb-463b-85d8-3aed98b49aa3",
   "metadata": {},
   "source": [
    "#### Issue 1: The text is too long \n",
    "- Limit the number of words/sentences/characters."
   ]
  },
  {
   "cell_type": "code",
   "execution_count": 64,
   "id": "e5baae8e-5eb0-41fa-90cd-846a96fcbbe0",
   "metadata": {},
   "outputs": [
    {
     "name": "stdout",
     "output_type": "stream",
     "text": [
      "Step back in time with our stunning mid-century-inspired chair. Its customizable design, from shell color to base finishes and upholstery options, makes it perfect for both home and business settings. With its durable aluminum base and adjustable seat, comfort and style go hand-in-hand.\n"
     ]
    }
   ],
   "source": [
    "prompt = f\"\"\"\n",
    "Your task is to help a marketing team create a \n",
    "description for a retail website of a product based \n",
    "on a technical fact sheet.\n",
    "\n",
    "Write a product description based on the information \n",
    "provided in the technical specifications delimited by \n",
    "triple backticks.\n",
    "\n",
    "Use at most 50 words.\n",
    "\n",
    "Technical specifications: ```{fact_sheet_chair}```\n",
    "\"\"\"\n",
    "\n",
    "response = get_response(prompt)\n",
    "print(response[1]['parts'][0])"
   ]
  },
  {
   "cell_type": "code",
   "execution_count": 65,
   "id": "ae9e00d2-a679-4b59-b2b0-2ab5dd6cda9e",
   "metadata": {},
   "outputs": [
    {
     "data": {
      "text/plain": [
       "43"
      ]
     },
     "execution_count": 65,
     "metadata": {},
     "output_type": "execute_result"
    }
   ],
   "source": [
    "len(response[1]['parts'][0].split(\" \"))"
   ]
  },
  {
   "cell_type": "markdown",
   "id": "3f2fa195-195f-4ede-84ed-3d8f6cb89a18",
   "metadata": {},
   "source": [
    "#### Issue 2. Text focuses on the wrong details\n",
    "- Ask it to focus on the aspects that are relevant to the intended audience."
   ]
  },
  {
   "cell_type": "code",
   "execution_count": 66,
   "id": "fed7e20d-45d1-47e4-a76d-5367da94c55e",
   "metadata": {},
   "outputs": [
    {
     "name": "stdout",
     "output_type": "stream",
     "text": [
      "Sturdy and stylish, this mid-century modern chair features a durable cast aluminum shell with nylon coating and a plush HD36 foam seat. Its 5-wheel plastic coated aluminum base provides effortless mobility, while various finish and upholstery options allow for customization to suit any décor.\n"
     ]
    }
   ],
   "source": [
    "prompt = f\"\"\"\n",
    "Your task is to help a marketing team create a \n",
    "description for a retail website of a product based \n",
    "on a technical fact sheet.\n",
    "\n",
    "Write a product description based on the information \n",
    "provided in the technical specifications delimited by \n",
    "triple backticks.\n",
    "\n",
    "The description is intended for furniture retailers, \n",
    "so should be technical in nature and focus on the \n",
    "materials the product is constructed from.\n",
    "\n",
    "Use at most 50 words.\n",
    "\n",
    "Technical specifications: ```{fact_sheet_chair}```\n",
    "\"\"\"\n",
    "\n",
    "response = get_response(prompt)\n",
    "print(response[1]['parts'][0])"
   ]
  },
  {
   "cell_type": "code",
   "execution_count": 67,
   "id": "20f734e9-828c-4f8f-86e7-dbe7f70b626f",
   "metadata": {},
   "outputs": [
    {
     "name": "stdout",
     "output_type": "stream",
     "text": [
      "This mid-century modern office chair boasts a durable construction featuring a cast aluminum shell base with a modified nylon coating. Its comfortable HD36 foam seat is supported by a sturdy 5-wheel plastic coated aluminum base with your choice of caster options.\n",
      "\n",
      "Product IDs: SWC-100, SWC-110\n"
     ]
    }
   ],
   "source": [
    "prompt = f\"\"\"\n",
    "Your task is to help a marketing team create a \n",
    "description for a retail website of a product based \n",
    "on a technical fact sheet.\n",
    "\n",
    "Write a product description based on the information \n",
    "provided in the technical specifications delimited by \n",
    "triple backticks.\n",
    "\n",
    "The description is intended for furniture retailers, \n",
    "so should be technical in nature and focus on the \n",
    "materials the product is constructed from.\n",
    "\n",
    "At the end of the description, include every 7-character \n",
    "Product ID in the technical specification.\n",
    "\n",
    "Use at most 50 words.\n",
    "\n",
    "Technical specifications: ```{fact_sheet_chair}```\n",
    "\"\"\"\n",
    "\n",
    "response = get_response(prompt)\n",
    "print(response[1]['parts'][0])"
   ]
  },
  {
   "cell_type": "markdown",
   "id": "fae61ed1-b908-4e2c-8bc1-51a221878ae7",
   "metadata": {},
   "source": [
    "#### Issue 3. Description needs a table of dimensions\n",
    "- Ask it to extract information and organize it in a table."
   ]
  },
  {
   "cell_type": "code",
   "execution_count": 74,
   "id": "59e81990-4a34-4fe9-9ef3-224c14ba33d3",
   "metadata": {},
   "outputs": [
    {
     "name": "stdout",
     "output_type": "stream",
     "text": [
      "```html\n",
      "<div>\n",
      "  <h1>Mid-Century Executive Office Chair</h1>\n",
      "\n",
      "  <p>This office chair is part of a collection of mid-century inspired office furniture that includes filing cabinets, desks, bookcases, meeting tables, and more. It is available in several options of shell color and base finishes, and with plastic back and front upholstery or full upholstery in a variety of fabric and leather options. The base finish options are stainless steel, matte black, gloss white, or chrome. The chair is available with or without armrests, and is suitable for home or business settings, and is qualified for contract use.</p>\n",
      "\n",
      "  <p><strong>Construction:</strong></p>\n",
      "\n",
      "  <ul>\n",
      "    <li>5-wheel plastic coated aluminum base</li>\n",
      "    <li>Pneumatic chair adjust for easy raise/lower action</li>\n",
      "    <li>HD36 foam seat</li>\n",
      "  </ul>\n",
      "\n",
      "  <p><strong>Materials:</strong></p>\n",
      "\n",
      "  <ul>\n",
      "    <li>SHELL BASE GLIDER: Cast Aluminum with modified nylon PA6/PA66 coating. Shell thickness: 10 mm.</li>\n",
      "  </ul>\n",
      "\n",
      "  <h2>Product ID</h2>\n",
      "  <ul>\n",
      "    <li>SWC-100</li>\n",
      "    <li>SWC-110</li>\n",
      "  </ul>\n",
      "\n",
      "  <table id=\"product-dimensions\">\n",
      "    <caption>Product Dimensions</caption>\n",
      "    <thead>\n",
      "      <tr>\n",
      "        <th>Dimension</th>\n",
      "        <th>Measurement (inches)</th>\n",
      "      </tr>\n",
      "    </thead>\n",
      "    <tbody>\n",
      "      <tr>\n",
      "        <td>Width</td>\n",
      "        <td>20.87</td>\n",
      "      </tr>\n",
      "      <tr>\n",
      "        <td>Depth</td>\n",
      "        <td>20.08</td>\n",
      "      </tr>\n",
      "      <tr>\n",
      "        <td>Height</td>\n",
      "        <td>31.50</td>\n",
      "      </tr>\n",
      "      <tr>\n",
      "        <td>Seat height</td>\n",
      "        <td>17.32</td>\n",
      "      </tr>\n",
      "      <tr>\n",
      "        <td>Seat depth</td>\n",
      "        <td>16.14</td>\n",
      "      </tr>\n",
      "    </tbody>\n",
      "  </table>\n",
      "</div>\n",
      "```\n"
     ]
    }
   ],
   "source": [
    "prompt = f\"\"\"\n",
    "Your task is to help a marketing team create a \n",
    "description for a retail website of a product based \n",
    "on a technical fact sheet.\n",
    "\n",
    "Write a product description based on the information \n",
    "provided in the technical specifications delimited by \n",
    "triple backticks.\n",
    "\n",
    "The description is intended for furniture retailers, \n",
    "so should be technical in nature and focus on the \n",
    "materials the product is constructed from.\n",
    "\n",
    "At the end of the description, include every 7-character \n",
    "Product ID in the technical specification.\n",
    "\n",
    "After the description, include a table that gives the \n",
    "product's dimensions. The table should have two columns.\n",
    "In the first column include the name of the dimension. \n",
    "In the second column include the measurements in inches only.\n",
    "\n",
    "Give the table the title 'Product Dimensions'.\n",
    "\n",
    "Format the product description, product ID, and the table 'Product Dimensions' \n",
    "as HTML that can be used in a website. Place all the elements in a <div> element.\n",
    "\n",
    "Technical specifications: ```{fact_sheet_chair}```\n",
    "\"\"\"\n",
    "\n",
    "response = get_response(prompt)\n",
    "print(response[1]['parts'][0])"
   ]
  },
  {
   "cell_type": "code",
   "execution_count": 75,
   "id": "a1899f64-0577-486d-b29c-992748b20164",
   "metadata": {},
   "outputs": [
    {
     "data": {
      "text/html": [
       "```html\n",
       "<div>\n",
       "  <h1>Mid-Century Executive Office Chair</h1>\n",
       "\n",
       "  <p>This office chair is part of a collection of mid-century inspired office furniture that includes filing cabinets, desks, bookcases, meeting tables, and more. It is available in several options of shell color and base finishes, and with plastic back and front upholstery or full upholstery in a variety of fabric and leather options. The base finish options are stainless steel, matte black, gloss white, or chrome. The chair is available with or without armrests, and is suitable for home or business settings, and is qualified for contract use.</p>\n",
       "\n",
       "  <p><strong>Construction:</strong></p>\n",
       "\n",
       "  <ul>\n",
       "    <li>5-wheel plastic coated aluminum base</li>\n",
       "    <li>Pneumatic chair adjust for easy raise/lower action</li>\n",
       "    <li>HD36 foam seat</li>\n",
       "  </ul>\n",
       "\n",
       "  <p><strong>Materials:</strong></p>\n",
       "\n",
       "  <ul>\n",
       "    <li>SHELL BASE GLIDER: Cast Aluminum with modified nylon PA6/PA66 coating. Shell thickness: 10 mm.</li>\n",
       "  </ul>\n",
       "\n",
       "  <h2>Product ID</h2>\n",
       "  <ul>\n",
       "    <li>SWC-100</li>\n",
       "    <li>SWC-110</li>\n",
       "  </ul>\n",
       "\n",
       "  <table id=\"product-dimensions\">\n",
       "    <caption>Product Dimensions</caption>\n",
       "    <thead>\n",
       "      <tr>\n",
       "        <th>Dimension</th>\n",
       "        <th>Measurement (inches)</th>\n",
       "      </tr>\n",
       "    </thead>\n",
       "    <tbody>\n",
       "      <tr>\n",
       "        <td>Width</td>\n",
       "        <td>20.87</td>\n",
       "      </tr>\n",
       "      <tr>\n",
       "        <td>Depth</td>\n",
       "        <td>20.08</td>\n",
       "      </tr>\n",
       "      <tr>\n",
       "        <td>Height</td>\n",
       "        <td>31.50</td>\n",
       "      </tr>\n",
       "      <tr>\n",
       "        <td>Seat height</td>\n",
       "        <td>17.32</td>\n",
       "      </tr>\n",
       "      <tr>\n",
       "        <td>Seat depth</td>\n",
       "        <td>16.14</td>\n",
       "      </tr>\n",
       "    </tbody>\n",
       "  </table>\n",
       "</div>\n",
       "```"
      ],
      "text/plain": [
       "<IPython.core.display.HTML object>"
      ]
     },
     "metadata": {},
     "output_type": "display_data"
    }
   ],
   "source": [
    "display(HTML(response[1]['parts'][0]))"
   ]
  },
  {
   "cell_type": "markdown",
   "id": "8ad1e422-476e-4c7c-bb87-86fc3555e292",
   "metadata": {},
   "source": [
    "## Summarizing\n",
    "Summarize text with a focus on specific topics.\n",
    "\n",
    "### Text to summarize"
   ]
  },
  {
   "cell_type": "code",
   "execution_count": 107,
   "id": "487ba0e0-bf50-4cd6-b9f3-b553438b0bc9",
   "metadata": {},
   "outputs": [],
   "source": [
    "prod_review = \"\"\"\n",
    "Got this panda plush toy for my daughter's birthday, \\\n",
    "who loves it and takes it everywhere. It's soft and \\ \n",
    "super cute, and its face has a friendly look. It's \\ \n",
    "a bit small for what I paid though. I think there \\ \n",
    "might be other options that are bigger for the \\ \n",
    "same price. It arrived a day earlier than expected, \\ \n",
    "so I got to play with it myself before I gave it \\ \n",
    "to her.\n",
    "\"\"\""
   ]
  },
  {
   "cell_type": "markdown",
   "id": "252ce633-52ac-465b-b9d0-a5a9b736bfbd",
   "metadata": {},
   "source": [
    "#### Summarize with a word/sentence/character limit"
   ]
  },
  {
   "cell_type": "code",
   "execution_count": 108,
   "id": "743af17b-a91b-4f90-8eb1-438ddc122b4f",
   "metadata": {},
   "outputs": [
    {
     "name": "stdout",
     "output_type": "stream",
     "text": [
      "***Soft and adorable panda plush toy with a friendly face, but slightly overpriced for its size. Arrived promptly.**\n"
     ]
    }
   ],
   "source": [
    "prompt = f\"\"\"\n",
    "Your task is to generate a short summary of a product \\\n",
    "review from an ecommerce site. \n",
    "\n",
    "Summarize the review below, delimited by triple \n",
    "backticks, in at most 30 words. \n",
    "\n",
    "Review: ```{prod_review}```\n",
    "\"\"\"\n",
    "\n",
    "response = get_response(prompt)\n",
    "print(response[1]['parts'][0])"
   ]
  },
  {
   "cell_type": "markdown",
   "id": "69d1c31a-e3fc-4cb2-936d-5b4d1fa37b9f",
   "metadata": {},
   "source": [
    "#### Summarize with a focus on shipping and delivery"
   ]
  },
  {
   "cell_type": "code",
   "execution_count": 110,
   "id": "2bafe6b9-0e61-4392-b222-4f17a58b570c",
   "metadata": {},
   "outputs": [
    {
     "name": "stdout",
     "output_type": "stream",
     "text": [
      "***Arrived a day earlier than expected, allowing for pre-gifting playtime.***\n"
     ]
    }
   ],
   "source": [
    "prompt = f\"\"\"\n",
    "Your task is to generate a short summary of a product \\\n",
    "review from an ecommerce site to give feedback to the \\\n",
    "Shipping deparmtment. \n",
    "\n",
    "Summarize the review below, delimited by triple \n",
    "backticks, in at most 30 words, and focusing on any aspects \\\n",
    "that mention shipping and delivery of the product. \n",
    "\n",
    "Review: ```{prod_review}```\n",
    "\"\"\"\n",
    "\n",
    "response = get_response(prompt)\n",
    "print(response[1]['parts'][0])"
   ]
  },
  {
   "cell_type": "markdown",
   "id": "48a35fa3-6840-4b17-85ac-b00af11657f1",
   "metadata": {},
   "source": [
    "#### Summarize with a focus on price and value"
   ]
  },
  {
   "cell_type": "code",
   "execution_count": 115,
   "id": "d5f4f91c-3a8d-442a-b502-535eb4bd38e1",
   "metadata": {},
   "outputs": [
    {
     "name": "stdout",
     "output_type": "stream",
     "text": [
      "### Item overpriced; consider larger size option for same price.\n"
     ]
    }
   ],
   "source": [
    "prompt = f\"\"\"\n",
    "Your task is to generate a short summary of a product \\\n",
    "review from an ecommerce site to give feedback to the \\\n",
    "pricing deparmtment, responsible for determining the \\\n",
    "price of the product.  \n",
    "\n",
    "Summarize the review below, delimited by triple \n",
    "backticks, in at most 30 words, and focusing on any aspects \\\n",
    "that are relevant to the price and perceived value. \n",
    "\n",
    "Review: ```{prod_review}```\n",
    "\"\"\"\n",
    "\n",
    "response = get_response(prompt)\n",
    "print(response[1]['parts'][0])"
   ]
  },
  {
   "cell_type": "code",
   "execution_count": 116,
   "id": "c902e77e-f241-4e63-aaa5-f789f30b1f58",
   "metadata": {},
   "outputs": [
    {
     "name": "stdout",
     "output_type": "stream",
     "text": [
      "Package arrived a day earlier than expected.\n"
     ]
    }
   ],
   "source": [
    "prompt = f\"\"\"\n",
    "Your task is to extract relevant information from \\ \n",
    "a product review from an ecommerce site to give \\\n",
    "feedback to the Shipping department. \n",
    "\n",
    "From the review below, delimited by triple quotes \\\n",
    "extract the information relevant to shipping and \\ \n",
    "delivery. Limit to 30 words. \n",
    "\n",
    "Review: ```{prod_review}```\n",
    "\"\"\"\n",
    "\n",
    "response = get_response(prompt)\n",
    "print(response[1]['parts'][0])"
   ]
  },
  {
   "cell_type": "markdown",
   "id": "a4e75454-5d4f-499d-ac21-57059eb1405e",
   "metadata": {},
   "source": [
    "#### Summarize multiple product reviews"
   ]
  },
  {
   "cell_type": "code",
   "execution_count": 117,
   "id": "cbb47b39-a8b6-4003-9ba4-3ca6ebc03f49",
   "metadata": {},
   "outputs": [],
   "source": [
    "\n",
    "review_1 = prod_review \n",
    "\n",
    "# review for a standing lamp\n",
    "review_2 = \"\"\"\n",
    "Needed a nice lamp for my bedroom, and this one \\\n",
    "had additional storage and not too high of a price \\\n",
    "point. Got it fast - arrived in 2 days. The string \\\n",
    "to the lamp broke during the transit and the company \\\n",
    "happily sent over a new one. Came within a few days \\\n",
    "as well. It was easy to put together. Then I had a \\\n",
    "missing part, so I contacted their support and they \\\n",
    "very quickly got me the missing piece! Seems to me \\\n",
    "to be a great company that cares about their customers \\\n",
    "and products. \n",
    "\"\"\"\n",
    "\n",
    "# review for an electric toothbrush\n",
    "review_3 = \"\"\"\n",
    "My dental hygienist recommended an electric toothbrush, \\\n",
    "which is why I got this. The battery life seems to be \\\n",
    "pretty impressive so far. After initial charging and \\\n",
    "leaving the charger plugged in for the first week to \\\n",
    "condition the battery, I've unplugged the charger and \\\n",
    "been using it for twice daily brushing for the last \\\n",
    "3 weeks all on the same charge. But the toothbrush head \\\n",
    "is too small. I’ve seen baby toothbrushes bigger than \\\n",
    "this one. I wish the head was bigger with different \\\n",
    "length bristles to get between teeth better because \\\n",
    "this one doesn’t.  Overall if you can get this one \\\n",
    "around the $50 mark, it's a good deal. The manufactuer's \\\n",
    "replacements heads are pretty expensive, but you can \\\n",
    "get generic ones that're more reasonably priced. This \\\n",
    "toothbrush makes me feel like I've been to the dentist \\\n",
    "every day. My teeth feel sparkly clean! \n",
    "\"\"\"\n",
    "\n",
    "# review for a blender\n",
    "review_4 = \"\"\"\n",
    "So, they still had the 17 piece system on seasonal \\\n",
    "sale for around $49 in the month of November, about \\\n",
    "half off, but for some reason (call it price gouging) \\\n",
    "around the second week of December the prices all went \\\n",
    "up to about anywhere from between $70-$89 for the same \\\n",
    "system. And the 11 piece system went up around $10 or \\\n",
    "so in price also from the earlier sale price of $29. \\\n",
    "So it looks okay, but if you look at the base, the part \\\n",
    "where the blade locks into place doesn’t look as good \\\n",
    "as in previous editions from a few years ago, but I \\\n",
    "plan to be very gentle with it (example, I crush \\\n",
    "very hard items like beans, ice, rice, etc. in the \\ \n",
    "blender first then pulverize them in the serving size \\\n",
    "I want in the blender then switch to the whipping \\\n",
    "blade for a finer flour, and use the cross cutting blade \\\n",
    "first when making smoothies, then use the flat blade \\\n",
    "if I need them finer/less pulpy). Special tip when making \\\n",
    "smoothies, finely cut and freeze the fruits and \\\n",
    "vegetables (if using spinach-lightly stew soften the \\ \n",
    "spinach then freeze until ready for use-and if making \\\n",
    "sorbet, use a small to medium sized food processor) \\ \n",
    "that you plan to use that way you can avoid adding so \\\n",
    "much ice if at all-when making your smoothie. \\\n",
    "After about a year, the motor was making a funny noise. \\\n",
    "I called customer service but the warranty expired \\\n",
    "already, so I had to buy another one. FYI: The overall \\\n",
    "quality has gone done in these types of products, so \\\n",
    "they are kind of counting on brand recognition and \\\n",
    "consumer loyalty to maintain sales. Got it in about \\\n",
    "two days.\n",
    "\"\"\"\n",
    "\n",
    "reviews = [review_1, review_2, review_3, review_4]"
   ]
  },
  {
   "cell_type": "code",
   "execution_count": 126,
   "id": "efd147d5-99f2-4522-adba-1fe7452e382e",
   "metadata": {},
   "outputs": [
    {
     "name": "stdout",
     "output_type": "stream",
     "text": [
      "0 ***Cute and soft panda plush toy, perfect for gifting, but may be overpriced for its size.*** \n",
      "\n",
      "1 ***Lamp arrived quickly, had missing parts but company quickly resolved the issue, indicating excellent customer service.*** \n",
      "\n",
      "2 Electric toothbrush with impressive battery life but a small toothbrush head and expensive replacement heads. \n",
      "\n",
      "3 ### Review Summary: \n",
      "Product quality declined, but still a good value during seasonal sales. Motor issues after a year. \n",
      "\n"
     ]
    }
   ],
   "source": [
    "for i in range(len(reviews)):\n",
    "    prompt = f\"\"\"\n",
    "    Your task is to generate a short summary of a product \\ \n",
    "    review from an ecommerce site. \n",
    "\n",
    "    Summarize the review below, delimited by triple \\\n",
    "    backticks in at most 20 words. \n",
    "\n",
    "    Review: ```{reviews[i]}```\n",
    "    \"\"\"\n",
    "    \n",
    "    response = get_response(prompt)\n",
    "    print(i, response[1]['parts'][0], \"\\n\")"
   ]
  },
  {
   "cell_type": "markdown",
   "id": "9f896cc5-be2f-42b4-81c2-3ec2e9fe63ec",
   "metadata": {},
   "source": [
    "## Inferring\n",
    "\n",
    "Infer sentiment and topics from product reviews and news articles.\n",
    "\n",
    "### Product review text"
   ]
  },
  {
   "cell_type": "code",
   "execution_count": 127,
   "id": "01af3652-4377-4841-ac84-0ed123dec85a",
   "metadata": {},
   "outputs": [],
   "source": [
    "lamp_review = \"\"\"\n",
    "Needed a nice lamp for my bedroom, and this one had \\\n",
    "additional storage and not too high of a price point. \\\n",
    "Got it fast.  The string to our lamp broke during the \\\n",
    "transit and the company happily sent over a new one. \\\n",
    "Came within a few days as well. It was easy to put \\\n",
    "together.  I had a missing part, so I contacted their \\\n",
    "support and they very quickly got me the missing piece! \\\n",
    "Lumina seems to me to be a great company that cares \\\n",
    "about their customers and products!!\n",
    "\"\"\""
   ]
  },
  {
   "cell_type": "markdown",
   "id": "c85d919a-2308-44fb-9daf-7d970e6b7856",
   "metadata": {},
   "source": [
    "#### Sentiment (positive/negative)"
   ]
  },
  {
   "cell_type": "code",
   "execution_count": 131,
   "id": "9daf8e53-e415-4375-a4bf-2ccb2f625fc4",
   "metadata": {},
   "outputs": [
    {
     "name": "stdout",
     "output_type": "stream",
     "text": [
      "Positive\n"
     ]
    }
   ],
   "source": [
    "prompt = f\"\"\"\n",
    "What is the sentiment of the following product review, \n",
    "which is delimited with triple backticks?\n",
    "\n",
    "Review text: '''{lamp_review}'''\n",
    "\"\"\"\n",
    "response = get_response(prompt)\n",
    "print(response[1]['parts'][0])"
   ]
  },
  {
   "cell_type": "code",
   "execution_count": 133,
   "id": "043be358-09b6-4ff5-af88-f0c85fee2a48",
   "metadata": {},
   "outputs": [
    {
     "name": "stdout",
     "output_type": "stream",
     "text": [
      "positive\n"
     ]
    }
   ],
   "source": [
    "prompt = f\"\"\"\n",
    "What is the sentiment of the following product review, \n",
    "which is delimited with triple backticks?\n",
    "\n",
    "Give your answer as a single word, either \"positive\" \\\n",
    "or \"negative\".\n",
    "\n",
    "Review text: '''{lamp_review}'''\n",
    "\"\"\"\n",
    "response = get_response(prompt)\n",
    "print(response[1]['parts'][0])"
   ]
  },
  {
   "cell_type": "markdown",
   "id": "1b3c2c5b-3e53-4e38-a42f-3c473d51e5f7",
   "metadata": {},
   "source": [
    "#### Identify types of emotions"
   ]
  },
  {
   "cell_type": "code",
   "execution_count": 134,
   "id": "40ac26e1-4ced-490e-abf6-4033350f1412",
   "metadata": {},
   "outputs": [
    {
     "name": "stdout",
     "output_type": "stream",
     "text": [
      "- contented\n",
      "- grateful\n",
      "- satisfied\n",
      "- relieved\n",
      "- pleased\n"
     ]
    }
   ],
   "source": [
    "prompt = f\"\"\"\n",
    "Identify a list of emotions that the writer of the \\\n",
    "following review is expressing. Include no more than \\\n",
    "five items in the list. Format your answer as a list of \\\n",
    "lower-case words separated by commas.\n",
    "\n",
    "Review text: '''{lamp_review}'''\n",
    "\"\"\"\n",
    "response = get_response(prompt)\n",
    "print(response[1]['parts'][0])"
   ]
  },
  {
   "cell_type": "markdown",
   "id": "b9e16df5-8689-492e-b6d3-aa253c978be8",
   "metadata": {},
   "source": [
    "#### Identify anger"
   ]
  },
  {
   "cell_type": "code",
   "execution_count": 136,
   "id": "2148937b-454c-40c8-8c75-77554f408e3f",
   "metadata": {},
   "outputs": [
    {
     "name": "stdout",
     "output_type": "stream",
     "text": [
      "no\n"
     ]
    }
   ],
   "source": [
    "prompt = f\"\"\"\n",
    "Is the writer of the following review expressing anger?\\\n",
    "The review is delimited with triple backticks. \\\n",
    "Give your answer as either yes or no.\n",
    "\n",
    "Review text: '''{lamp_review}'''\n",
    "\"\"\"\n",
    "response = get_response(prompt)\n",
    "print(response[1]['parts'][0])"
   ]
  },
  {
   "cell_type": "markdown",
   "id": "c4be6327-5355-49cb-9ec7-03ef28fa68e4",
   "metadata": {},
   "source": [
    "#### Extract product and company name from customer reviews"
   ]
  },
  {
   "cell_type": "code",
   "execution_count": 138,
   "id": "cfccff63-e72e-4ce5-9490-2fb06155a5a2",
   "metadata": {},
   "outputs": [
    {
     "name": "stdout",
     "output_type": "stream",
     "text": [
      "```json\n",
      "{\n",
      "  \"Item\": \"lamp\",\n",
      "  \"Brand\": \"Lumina\"\n",
      "}\n",
      "```\n"
     ]
    }
   ],
   "source": [
    "prompt = f\"\"\"\n",
    "Identify the following items from the review text: \n",
    "- Item purchased by reviewer\n",
    "- Company that made the item\n",
    "\n",
    "The review is delimited with triple backticks. \\\n",
    "Format your response as a JSON object with \\\n",
    "\"Item\" and \"Brand\" as the keys. \n",
    "If the information isn't present, use \"unknown\" \\\n",
    "as the value.\n",
    "Make your response as short as possible.\n",
    "  \n",
    "Review text: '''{lamp_review}'''\n",
    "\"\"\"\n",
    "response = get_response(prompt)\n",
    "print(response[1]['parts'][0])"
   ]
  },
  {
   "cell_type": "markdown",
   "id": "6326579f-85d7-46c5-bf3f-0e19c43a475d",
   "metadata": {},
   "source": [
    "#### Doing multiple tasks at once"
   ]
  },
  {
   "cell_type": "code",
   "execution_count": 140,
   "id": "b1cc13b9-9830-4358-b0b6-37e4afb693ba",
   "metadata": {},
   "outputs": [
    {
     "name": "stdout",
     "output_type": "stream",
     "text": [
      "```json\n",
      "{\n",
      "  \"Sentiment\": \"positive\",\n",
      "  \"Anger\": false,\n",
      "  \"Item\": \"lamp\",\n",
      "  \"Brand\": \"Lumina\"\n",
      "}\n",
      "```\n"
     ]
    }
   ],
   "source": [
    "prompt = f\"\"\"\n",
    "Identify the following items from the review text: \n",
    "- Sentiment (positive or negative)\n",
    "- Is the reviewer expressing anger? (true or false)\n",
    "- Item purchased by reviewer\n",
    "- Company that made the item\n",
    "\n",
    "The review is delimited with triple backticks. \\\n",
    "Format your response as a JSON object with \\\n",
    "\"Sentiment\", \"Anger\", \"Item\" and \"Brand\" as the keys.\n",
    "If the information isn't present, use \"unknown\" \\\n",
    "as the value.\n",
    "Make your response as short as possible.\n",
    "Format the Anger value as a boolean.\n",
    "\n",
    "Review text: '''{lamp_review}'''\n",
    "\"\"\"\n",
    "response = get_response(prompt)\n",
    "print(response[1]['parts'][0])"
   ]
  },
  {
   "cell_type": "markdown",
   "id": "2d7bf9ea-e44d-48f5-a7bc-68f78243a1ca",
   "metadata": {},
   "source": [
    "#### Inferring topics"
   ]
  },
  {
   "cell_type": "code",
   "execution_count": 141,
   "id": "b55b0bca-f716-4057-baaf-f66dd2ec7eaa",
   "metadata": {},
   "outputs": [],
   "source": [
    "story = \"\"\"\n",
    "In a recent survey conducted by the government, \n",
    "public sector employees were asked to rate their level \n",
    "of satisfaction with the department they work at. \n",
    "The results revealed that NASA was the most popular \n",
    "department with a satisfaction rating of 95%.\n",
    "\n",
    "One NASA employee, John Smith, commented on the findings, \n",
    "stating, \"I'm not surprised that NASA came out on top. \n",
    "It's a great place to work with amazing people and \n",
    "incredible opportunities. I'm proud to be a part of \n",
    "such an innovative organization.\"\n",
    "\n",
    "The results were also welcomed by NASA's management team, \n",
    "with Director Tom Johnson stating, \"We are thrilled to \n",
    "hear that our employees are satisfied with their work at NASA. \n",
    "We have a talented and dedicated team who work tirelessly \n",
    "to achieve our goals, and it's fantastic to see that their \n",
    "hard work is paying off.\"\n",
    "\n",
    "The survey also revealed that the \n",
    "Social Security Administration had the lowest satisfaction \n",
    "rating, with only 45% of employees indicating they were \n",
    "satisfied with their job. The government has pledged to \n",
    "address the concerns raised by employees in the survey and \n",
    "work towards improving job satisfaction across all departments.\n",
    "\"\"\""
   ]
  },
  {
   "cell_type": "markdown",
   "id": "d55de7f2-9b84-49d6-a4cd-d950be3ec706",
   "metadata": {},
   "source": [
    "#### Infer 5 topics"
   ]
  },
  {
   "cell_type": "code",
   "execution_count": 143,
   "id": "10fbe618-3b29-457f-bdb6-1880ab5ae7bb",
   "metadata": {},
   "outputs": [
    {
     "name": "stdout",
     "output_type": "stream",
     "text": [
      "- Employee satisfaction\n",
      "- NASA\n",
      "- Social Security Administration\n",
      "- Work environment\n",
      "- Government\n"
     ]
    }
   ],
   "source": [
    "prompt = f\"\"\"\n",
    "Determine five topics that are being discussed in the \\\n",
    "following text, which is delimited by triple backticks.\n",
    "\n",
    "Make each item one or two words long. \n",
    "\n",
    "Format your response as a list of items separated by commas.\n",
    "\n",
    "Text sample: '''{story}'''\n",
    "\"\"\"\n",
    "response = get_response(prompt)\n",
    "print(response[1]['parts'][0])"
   ]
  },
  {
   "cell_type": "code",
   "execution_count": 145,
   "id": "497e05d2-c6a7-4599-9fa8-b69f55adbdec",
   "metadata": {},
   "outputs": [],
   "source": [
    "topic_list = [\n",
    "    \"nasa\", \"local government\", \"engineering\", \n",
    "    \"employee satisfaction\", \"federal government\"\n",
    "]"
   ]
  },
  {
   "cell_type": "markdown",
   "id": "90943a6f-22d8-482b-bee5-fcd1320683c1",
   "metadata": {},
   "source": [
    "#### Make a news alert for certain topics"
   ]
  },
  {
   "cell_type": "code",
   "execution_count": 146,
   "id": "f05de497-e13d-4a09-a3c4-0f7b81fbda2b",
   "metadata": {},
   "outputs": [
    {
     "name": "stdout",
     "output_type": "stream",
     "text": [
      "nasa: 1\n",
      "local government: 0\n",
      "engineering: 0\n",
      "employee satisfaction: 1\n",
      "federal government: 1\n"
     ]
    }
   ],
   "source": [
    "prompt = f\"\"\"\n",
    "Determine whether each item in the following list of \\\n",
    "topics is a topic in the text below, which\n",
    "is delimited with triple backticks.\n",
    "\n",
    "Give your answer as list with 0 or 1 for each topic.\\\n",
    "\n",
    "List of topics: {\", \".join(topic_list)}\n",
    "\n",
    "Text sample: '''{story}'''\n",
    "\"\"\"\n",
    "response = get_response(prompt)\n",
    "print(response[1]['parts'][0])"
   ]
  },
  {
   "cell_type": "code",
   "execution_count": 147,
   "id": "5cda8e38-bbe9-4c73-9bc2-fc07a6b63349",
   "metadata": {},
   "outputs": [
    {
     "name": "stdout",
     "output_type": "stream",
     "text": [
      "ALERT: New NASA story!\n"
     ]
    }
   ],
   "source": [
    "topic_dict = {i.split(': ')[0]: int(i.split(': ')[1]) for i in response[1]['parts'][0].split(sep='\\n')}\n",
    "if topic_dict['nasa'] == 1:\n",
    "    print(\"ALERT: New NASA story!\")"
   ]
  },
  {
   "cell_type": "markdown",
   "id": "a33b7e60-e6bf-45aa-822e-1a7692537e8b",
   "metadata": {},
   "source": [
    "## Transforming\n",
    "\n",
    "Use Large Language Models for text transformation tasks such as language translation, spelling and grammar checking, tone adjustment, and format conversion.\n",
    "\n",
    "### Translation\n",
    "\n",
    "Gemini is trained with sources in many languages. This gives the model the ability to do translation."
   ]
  },
  {
   "cell_type": "code",
   "execution_count": 148,
   "id": "59309d20-d58b-4ed0-9621-2bae84dff7d8",
   "metadata": {},
   "outputs": [
    {
     "name": "stdout",
     "output_type": "stream",
     "text": [
      "Hola, me gustaría pedir una licuadora\n"
     ]
    }
   ],
   "source": [
    "prompt = f\"\"\"\n",
    "Translate the following English text to Spanish: \\ \n",
    "```Hi, I would like to order a blender```\n",
    "\"\"\"\n",
    "\n",
    "response = get_response(prompt)\n",
    "print(response[1]['parts'][0])"
   ]
  },
  {
   "cell_type": "code",
   "execution_count": 149,
   "id": "58ac59e3-b8e6-4766-bc00-3b265eb91518",
   "metadata": {},
   "outputs": [
    {
     "name": "stdout",
     "output_type": "stream",
     "text": [
      "French\n"
     ]
    }
   ],
   "source": [
    "prompt = f\"\"\"\n",
    "Tell me which language this is: \n",
    "```Combien coûte le lampadaire?```\n",
    "\"\"\"\n",
    "response = get_response(prompt)\n",
    "print(response[1]['parts'][0])"
   ]
  },
  {
   "cell_type": "code",
   "execution_count": 150,
   "id": "31288d75-72ca-4f5a-bdb9-887fb0f11aaf",
   "metadata": {},
   "outputs": [
    {
     "name": "stdout",
     "output_type": "stream",
     "text": [
      "**French:** J'aimerais commander un ballon de basket.\n",
      "\n",
      "**Spanish:** Me gustaría pedir un balón de baloncesto.\n",
      "\n",
      "**English pirate:** Ahoy there, matey! I be wantin' to order meself a basketball.\n"
     ]
    }
   ],
   "source": [
    "prompt = f\"\"\"\n",
    "Translate the following  text to French and Spanish\n",
    "and English pirate: \\\n",
    "```I want to order a basketball```\n",
    "\"\"\"\n",
    "response = get_response(prompt)\n",
    "print(response[1]['parts'][0])"
   ]
  },
  {
   "cell_type": "code",
   "execution_count": 151,
   "id": "63cc2dd5-5316-4a28-af1d-268b28287237",
   "metadata": {},
   "outputs": [
    {
     "name": "stdout",
     "output_type": "stream",
     "text": [
      "**Formal:**\n",
      "¿Le gustaría ordenar una almohada?\n",
      "\n",
      "**Informal:**\n",
      "¿Quieres pedirte una almohada?\n"
     ]
    }
   ],
   "source": [
    "prompt = f\"\"\"\n",
    "Translate the following text to Spanish in both the \\\n",
    "formal and informal forms: \n",
    "'Would you like to order a pillow?'\n",
    "\"\"\"\n",
    "\n",
    "response = get_response(prompt)\n",
    "print(response[1]['parts'][0])"
   ]
  },
  {
   "cell_type": "markdown",
   "id": "663250c6-db94-4eae-8f7f-188e89cb97a3",
   "metadata": {},
   "source": [
    "#### Universal Translator\n",
    "Imagine you are in charge of IT at a large multinational e-commerce company. Users are messaging you with IT issues in all their native languages. Your staff is from all over the world and speaks only their native languages. You need a universal translator!"
   ]
  },
  {
   "cell_type": "code",
   "execution_count": 152,
   "id": "91d0e2d5-f0d8-4c63-a5c9-268a8b2c260c",
   "metadata": {},
   "outputs": [],
   "source": [
    "user_messages = [\n",
    "  \"La performance du système est plus lente que d'habitude.\",  # System performance is slower than normal         \n",
    "  \"Mi monitor tiene píxeles que no se iluminan.\",              # My monitor has pixels that are not lighting\n",
    "  \"Il mio mouse non funziona\",                                 # My mouse is not working\n",
    "  \"Mój klawisz Ctrl jest zepsuty\",                             # My keyboard has a broken control key\n",
    "  \"我的屏幕在闪烁\"                                               # My screen is flashing\n",
    "]"
   ]
  },
  {
   "cell_type": "code",
   "execution_count": 153,
   "id": "6d080e68-fd0d-48f5-8363-953e690d333a",
   "metadata": {},
   "outputs": [
    {
     "name": "stdout",
     "output_type": "stream",
     "text": [
      "Original message (French): La performance du système est plus lente que d'habitude.\n",
      "**English:**\n",
      "System performance is slower than usual.\n",
      "\n",
      "**Korean:**\n",
      "시스템 성능이 평소보다 느립니다. \n",
      "\n",
      "Original message (Spanish): Mi monitor tiene píxeles que no se iluminan.\n",
      "**English:** My monitor has pixels that don't light up.\n",
      "\n",
      "**Korean:** 내 모니터에 불이 들어오지 않는 픽셀이 있습니다. \n",
      "\n",
      "Original message (Italian): Il mio mouse non funziona\n",
      "**English:** My mouse is not working\n",
      "\n",
      "**Korean:** 마우스가 작동하지 않습니다 \n",
      "\n",
      "Original message (Polish): Mój klawisz Ctrl jest zepsuty\n",
      "**English:** My Ctrl key is broken\n",
      "\n",
      "**Korean:** 제 Ctrl 키가 고장났습니다 \n",
      "\n",
      "Original message (Chinese): 我的屏幕在闪烁\n",
      "**English:** My screen is flickering \n",
      "\n",
      "**Korean:** 화면이 깜빡입니다. \n",
      "\n"
     ]
    }
   ],
   "source": [
    "for issue in user_messages:\n",
    "    prompt = f\"Tell me what language this is: ```{issue}```\"\n",
    "    lang = get_response(prompt)\n",
    "    print(f\"Original message ({lang}): {issue}\")\n",
    "\n",
    "    prompt = f\"\"\"\n",
    "    Translate the following  text to English \\\n",
    "    and Korean: ```{issue}```\n",
    "    \"\"\"\n",
    "    response = get_response(prompt)\n",
    "    print(response[1]['parts'][0], \"\\n\")"
   ]
  },
  {
   "cell_type": "markdown",
   "id": "b801467c-2694-4ab2-9667-0e88a4927ffb",
   "metadata": {},
   "source": [
    "#### Tone Transformation\n",
    "Writing can vary based on the intended audience. Gemini can produce different tones."
   ]
  },
  {
   "cell_type": "code",
   "execution_count": 154,
   "id": "d0627dd1-29c7-46cb-aae9-a1029e4c10ae",
   "metadata": {},
   "outputs": [
    {
     "name": "stdout",
     "output_type": "stream",
     "text": [
      "Greetings [Name],\n",
      "\n",
      "My name is Joe and I would like to share the attached specification for a standing lamp that I believe would be a valuable addition to your product line.\n"
     ]
    }
   ],
   "source": [
    "prompt = f\"\"\"\n",
    "Translate the following from slang to a business letter: \n",
    "'Dude, This is Joe, check out this spec on this standing lamp.'\n",
    "\"\"\"\n",
    "response = get_response(prompt)\n",
    "print(response[1]['parts'][0])"
   ]
  },
  {
   "cell_type": "markdown",
   "id": "c534fd3d-e0ad-49ee-8680-fb4a6f002d6a",
   "metadata": {},
   "source": [
    "#### Format Conversion\n",
    "Gemini can translate between formats. The prompt should describe the input and output formats."
   ]
  },
  {
   "cell_type": "code",
   "execution_count": 155,
   "id": "45a847a9-f822-4039-a91a-ac0dd26f2224",
   "metadata": {},
   "outputs": [
    {
     "name": "stdout",
     "output_type": "stream",
     "text": [
      "```html\n",
      "<h2>Resturant Employees</h2>\n",
      "<table>\n",
      "<thead>\n",
      "<tr>\n",
      "<th>Name</th>\n",
      "<th>Email</th>\n",
      "</tr>\n",
      "</thead>\n",
      "<tbody>\n",
      "<tr>\n",
      "<td>Shyam</td>\n",
      "<td>shyamjaiswal@gmail.com</td>\n",
      "</tr>\n",
      "<tr>\n",
      "<td>Bob</td>\n",
      "<td>bob32@gmail.com</td>\n",
      "</tr>\n",
      "<tr>\n",
      "<td>Jai</td>\n",
      "<td>jai87@gmail.com</td>\n",
      "</tr>\n",
      "</tbody>\n",
      "</table>\n",
      "```\n"
     ]
    }
   ],
   "source": [
    "data_json = { \"resturant employees\" :[ \n",
    "    {\"name\":\"Shyam\", \"email\":\"shyamjaiswal@gmail.com\"},\n",
    "    {\"name\":\"Bob\", \"email\":\"bob32@gmail.com\"},\n",
    "    {\"name\":\"Jai\", \"email\":\"jai87@gmail.com\"}\n",
    "]}\n",
    "\n",
    "prompt = f\"\"\"\n",
    "Translate the following python dictionary from JSON to an HTML \\\n",
    "table with column headers and title: {data_json}\n",
    "\"\"\"\n",
    "response = get_response(prompt)\n",
    "print(response[1]['parts'][0])"
   ]
  },
  {
   "cell_type": "code",
   "execution_count": 156,
   "id": "fb894637-8ddc-49b6-874d-3e4ab622f421",
   "metadata": {},
   "outputs": [
    {
     "data": {
      "text/html": [
       "```html\n",
       "<h2>Resturant Employees</h2>\n",
       "<table>\n",
       "<thead>\n",
       "<tr>\n",
       "<th>Name</th>\n",
       "<th>Email</th>\n",
       "</tr>\n",
       "</thead>\n",
       "<tbody>\n",
       "<tr>\n",
       "<td>Shyam</td>\n",
       "<td>shyamjaiswal@gmail.com</td>\n",
       "</tr>\n",
       "<tr>\n",
       "<td>Bob</td>\n",
       "<td>bob32@gmail.com</td>\n",
       "</tr>\n",
       "<tr>\n",
       "<td>Jai</td>\n",
       "<td>jai87@gmail.com</td>\n",
       "</tr>\n",
       "</tbody>\n",
       "</table>\n",
       "```"
      ],
      "text/plain": [
       "<IPython.core.display.HTML object>"
      ]
     },
     "metadata": {},
     "output_type": "display_data"
    }
   ],
   "source": [
    "display(HTML(response[1]['parts'][0]))"
   ]
  },
  {
   "cell_type": "markdown",
   "id": "67990128-5dc6-4b91-92e9-bead06a6f5f6",
   "metadata": {},
   "source": [
    "#### Spellcheck/Grammar check.\n",
    "\n",
    "To signal to the LLM that you want it to proofread your text, you instruct the model to 'proofread' or 'proofread and correct'"
   ]
  },
  {
   "cell_type": "code",
   "execution_count": 157,
   "id": "5cce0df0-72b0-4220-92ca-7a33103277ae",
   "metadata": {},
   "outputs": [
    {
     "name": "stdout",
     "output_type": "stream",
     "text": [
      "The girl with the black and white puppies has a ball.\n",
      "No errors found.\n",
      "No errors found\n",
      "There goes my freedom. They're going to bring their suitcases.\n",
      "You're going to need your notebook.\n",
      "**Corrected text:**\n",
      "\n",
      "That medicine affects my ability to sleep. Have you heard of the butterfly effect?\n",
      "No errors found\n"
     ]
    }
   ],
   "source": [
    "text = [ \n",
    "  \"The girl with the black and white puppies have a ball.\",  # The girl has a ball.\n",
    "  \"Yolanda has her notebook.\", # ok\n",
    "  \"Its going to be a long day. Does the car need it’s oil changed?\",  # Homonyms\n",
    "  \"Their goes my freedom. There going to bring they’re suitcases.\",  # Homonyms\n",
    "  \"Your going to need you’re notebook.\",  # Homonyms\n",
    "  \"That medicine effects my ability to sleep. Have you heard of the butterfly affect?\", # Homonyms\n",
    "  \"This phrase is to cherck chatGPT for speling abilitty\"  # spelling\n",
    "]\n",
    "for t in text:\n",
    "    prompt = f\"\"\"Proofread and correct the following text\n",
    "    and rewrite the corrected version. If you don't find\n",
    "    and errors, just say \"No errors found\". Don't use \n",
    "    any punctuation around the text:\n",
    "    ```{t}```\"\"\"\n",
    "    response = get_response(prompt)\n",
    "    print(response[1]['parts'][0])"
   ]
  },
  {
   "cell_type": "code",
   "execution_count": 170,
   "id": "59956d23-6773-4b08-9017-76fe37a95b95",
   "metadata": {},
   "outputs": [
    {
     "name": "stdout",
     "output_type": "stream",
     "text": [
      "I purchased this panda for my daughter's birthday because she frequently takes mine from my room. Adults appreciate pandas too! She carries it with her everywhere because it is exceptionally soft and adorable.\n",
      "\n",
      "One ear is slightly lower than the other, which I do not believe was intended to be asymmetrical. However, considering the price, it is somewhat small. I believe there may be larger alternatives available for the same price.\n",
      "\n",
      "To my delight, it arrived a day earlier than anticipated, allowing me to enjoy it myself before presenting it to my daughter.\n"
     ]
    }
   ],
   "source": [
    "text = f\"\"\"\n",
    "Got this for my daughter for her birthday cuz she keeps taking \\\n",
    "mine from my room.  Yes, adults also like pandas too.  She takes \\\n",
    "it everywhere with her, and it's super soft and cute.  One of the \\\n",
    "ears is a bit lower than the other, and I don't think that was \\\n",
    "designed to be asymmetrical. It's a bit small for what I paid for it \\\n",
    "though. I think there might be other options that are bigger for \\\n",
    "the same price.  It arrived a day earlier than expected, so I got \\\n",
    "to play with it myself before I gave it to my daughter.\n",
    "\"\"\"\n",
    "prompt = f\"Proofread and write a grammatically correct version of this review: ```{text}```\"\n",
    "response = get_response(prompt)\n",
    "print(response[1]['parts'][0])"
   ]
  },
  {
   "cell_type": "code",
   "execution_count": 171,
   "id": "9a68e7d9-679e-4c9e-8ef4-2fc2cfe9fa5e",
   "metadata": {},
   "outputs": [
    {
     "data": {
      "text/markdown": [
       "<span style='color:red;font-weight:700;text-decoration:line-through;'>Got </span><span style='color:green;font-weight:700;'>I purchased </span>this <span style='color:green;font-weight:700;'>panda </span>for my <span style='color:red;font-weight:700;text-decoration:line-through;'>daughter for her </span><span style='color:green;font-weight:700;'>daughter's </span>birthday <span style='color:red;font-weight:700;text-decoration:line-through;'>cuz </span><span style='color:green;font-weight:700;'>because </span>she <span style='color:red;font-weight:700;text-decoration:line-through;'>keeps taking </span><span style='color:green;font-weight:700;'>frequently takes </span>mine from my <span style='color:red;font-weight:700;text-decoration:line-through;'>room.  Yes, adults also like </span><span style='color:green;font-weight:700;'>room. Adults appreciate </span>pandas <span style='color:red;font-weight:700;text-decoration:line-through;'>too.  </span><span style='color:green;font-weight:700;'>too! </span>She <span style='color:red;font-weight:700;text-decoration:line-through;'>takes </span><span style='color:green;font-weight:700;'>carries </span>it <span style='color:green;font-weight:700;'>with her </span>everywhere <span style='color:red;font-weight:700;text-decoration:line-through;'>with her, and it's super </span><span style='color:green;font-weight:700;'>because it is exceptionally </span>soft and <span style='color:red;font-weight:700;text-decoration:line-through;'>cute.  </span><span style='color:green;font-weight:700;'>adorable. </span>\n",
       "\n",
       "<span style='color:green;font-weight:700;'></span>One <span style='color:red;font-weight:700;text-decoration:line-through;'>of the ears </span><span style='color:green;font-weight:700;'>ear </span>is <span style='color:red;font-weight:700;text-decoration:line-through;'>a bit </span><span style='color:green;font-weight:700;'>slightly </span>lower than the other, <span style='color:red;font-weight:700;text-decoration:line-through;'>and </span><span style='color:green;font-weight:700;'>which </span>I <span style='color:red;font-weight:700;text-decoration:line-through;'>don't think that </span><span style='color:green;font-weight:700;'>do not believe </span>was <span style='color:red;font-weight:700;text-decoration:line-through;'>designed </span><span style='color:green;font-weight:700;'>intended </span>to be asymmetrical. <span style='color:red;font-weight:700;text-decoration:line-through;'>It's a bit small for what </span><span style='color:green;font-weight:700;'>However, considering the price, it is somewhat small. </span>I <span style='color:red;font-weight:700;text-decoration:line-through;'>paid for it though. I think </span><span style='color:green;font-weight:700;'>believe </span>there <span style='color:red;font-weight:700;text-decoration:line-through;'>might </span><span style='color:green;font-weight:700;'>may </span>be <span style='color:red;font-weight:700;text-decoration:line-through;'>other options that are bigger </span><span style='color:green;font-weight:700;'>larger alternatives available </span>for the same <span style='color:red;font-weight:700;text-decoration:line-through;'>price.  It </span><span style='color:green;font-weight:700;'>price. </span>\n",
       "\n",
       "<span style='color:green;font-weight:700;'>To my delight, it </span>arrived a day earlier than <span style='color:red;font-weight:700;text-decoration:line-through;'>expected, so I got </span><span style='color:green;font-weight:700;'>anticipated, allowing me </span>to <span style='color:red;font-weight:700;text-decoration:line-through;'>play with </span><span style='color:green;font-weight:700;'>enjoy </span>it myself before <span style='color:red;font-weight:700;text-decoration:line-through;'>I gave </span><span style='color:green;font-weight:700;'>presenting </span>it to my daughter."
      ],
      "text/plain": [
       "<IPython.core.display.Markdown object>"
      ]
     },
     "metadata": {},
     "output_type": "display_data"
    }
   ],
   "source": [
    "diff = Redlines(text,response)\n",
    "display(Markdown(diff.output_markdown))"
   ]
  },
  {
   "cell_type": "code",
   "execution_count": 164,
   "id": "0b772df4-3244-4e07-b188-ae684dea4292",
   "metadata": {},
   "outputs": [
    {
     "data": {
      "text/markdown": [
       "## Review of the Cute and Fluffy Panda Plushie\n",
       "\n",
       "**Product:** Panda Plushie\n",
       "\n",
       "**Intended Audience:** Adults and children\n",
       "\n",
       "**Positive Features:**\n",
       "\n",
       "* Unparalleled softness and cuddly texture\n",
       "* Adorable and captivating panda design\n",
       "* Conveniently portable, accompanying the user everywhere\n",
       "\n",
       "**Minor Criticism:**\n",
       "\n",
       "* Asymmetrical ears, with one ear positioned lower than the other (likely a design flaw)\n",
       "* Size discrepancy compared to the price, with larger options available at similar costs\n",
       "\n",
       "**Exceptional Delivery:**\n",
       "\n",
       "* Swift arrival, exceeding the expected delivery date\n",
       "\n",
       "**Overall Impression:**\n",
       "\n",
       "This panda plushie is a delightful companion, boasting exceptional softness and an endearing design. Its portability allows for constant companionship, bringing joy to both adults and children alike. While the asymmetrical ears may be a minor aesthetic flaw, the overall cuteness and undeniable cuddle factor more than compensate.\n",
       "\n",
       "Despite its slightly smaller size compared to other options on the market, the panda plushie offers an exceptional quality-to-price ratio. The prompt delivery also ensures timely gratification.\n",
       "\n",
       "**Recommendation:**\n",
       "\n",
       "Highly recommended for anyone seeking a loyal and lovable plushie companion. Its irresistibly soft texture, charming design, and convenient portability make it an ideal choice for those who cherish comfort and cuteness."
      ],
      "text/plain": [
       "<IPython.core.display.Markdown object>"
      ]
     },
     "metadata": {},
     "output_type": "display_data"
    }
   ],
   "source": [
    "prompt = f\"\"\"\n",
    "proofread and correct this review. Make it more compelling. \n",
    "Ensure it follows APA style guide and targets an advanced reader. \n",
    "Output in markdown format.\n",
    "Text: ```{text}```\n",
    "\"\"\"\n",
    "response = get_response(prompt)\n",
    "display(Markdown(response[1]['parts'][0]))"
   ]
  },
  {
   "cell_type": "markdown",
   "id": "c7fb9521-e215-47a9-b9bc-e91ebcbca69f",
   "metadata": {},
   "source": [
    "## Expanding\n",
    "\n",
    "Generate customer service emails that are tailored to each customer's review."
   ]
  },
  {
   "cell_type": "code",
   "execution_count": 175,
   "id": "504b52cf-1c6d-40e9-8e7a-b74f700c9758",
   "metadata": {},
   "outputs": [],
   "source": [
    "# given the sentiment from the lesson on \"inferring\",\n",
    "# and the original customer message, customize the email\n",
    "sentiment = \"negative\"\n",
    "\n",
    "# review for a blender\n",
    "review = f\"\"\"\n",
    "So, they still had the 17 piece system on seasonal \\\n",
    "sale for around $49 in the month of November, about \\\n",
    "half off, but for some reason (call it price gouging) \\\n",
    "around the second week of December the prices all went \\\n",
    "up to about anywhere from between $70-$89 for the same \\\n",
    "system. And the 11 piece system went up around $10 or \\\n",
    "so in price also from the earlier sale price of $29. \\\n",
    "So it looks okay, but if you look at the base, the part \\\n",
    "where the blade locks into place doesn’t look as good \\\n",
    "as in previous editions from a few years ago, but I \\\n",
    "plan to be very gentle with it (example, I crush \\\n",
    "very hard items like beans, ice, rice, etc. in the \\ \n",
    "blender first then pulverize them in the serving size \\\n",
    "I want in the blender then switch to the whipping \\\n",
    "blade for a finer flour, and use the cross cutting blade \\\n",
    "first when making smoothies, then use the flat blade \\\n",
    "if I need them finer/less pulpy). Special tip when making \\\n",
    "smoothies, finely cut and freeze the fruits and \\\n",
    "vegetables (if using spinach-lightly stew soften the \\ \n",
    "spinach then freeze until ready for use-and if making \\\n",
    "sorbet, use a small to medium sized food processor) \\ \n",
    "that you plan to use that way you can avoid adding so \\\n",
    "much ice if at all-when making your smoothie. \\\n",
    "After about a year, the motor was making a funny noise. \\\n",
    "I called customer service but the warranty expired \\\n",
    "already, so I had to buy another one. FYI: The overall \\\n",
    "quality has gone done in these types of products, so \\\n",
    "they are kind of counting on brand recognition and \\\n",
    "consumer loyalty to maintain sales. Got it in about \\\n",
    "two days.\n",
    "\"\"\""
   ]
  },
  {
   "cell_type": "markdown",
   "id": "9c6bc012-7f4e-4390-ac24-b2188847659a",
   "metadata": {},
   "source": [
    "#### Customize the automated reply to a customer email"
   ]
  },
  {
   "cell_type": "code",
   "execution_count": 176,
   "id": "5c277eb5-6057-4577-badd-b855890ec40e",
   "metadata": {},
   "outputs": [
    {
     "name": "stdout",
     "output_type": "stream",
     "text": [
      "Dear Valued Customer,\n",
      "\n",
      "Thank you for taking the time to share your feedback on our product. We appreciate your honesty and understand your concerns regarding the price increase and perceived decline in quality.\n",
      "\n",
      "We apologize for any inconvenience or disappointment this may have caused. We value your loyalty and are committed to providing high-quality products. We will take your feedback into consideration as we work to improve our offerings.\n",
      "\n",
      "If you have any further concerns or would like to discuss this matter further, please do not hesitate to reach out to our customer service team.\n",
      "\n",
      "Thank you for your continued support.\n",
      "\n",
      "Sincerely,\n",
      "AI Customer Agent\n"
     ]
    }
   ],
   "source": [
    "prompt = f\"\"\"\n",
    "You are a customer service AI assistant.\n",
    "Your task is to send an email reply to a valued customer.\n",
    "Given the customer email delimited by ```, \\\n",
    "Generate a reply to thank the customer for their review.\n",
    "If the sentiment is positive or neutral, thank them for \\\n",
    "their review.\n",
    "If the sentiment is negative, apologize and suggest that \\\n",
    "they can reach out to customer service. \n",
    "Make sure to use specific details from the review.\n",
    "Write in a concise and professional tone.\n",
    "Sign the email as `AI customer agent`.\n",
    "Customer review: ```{review}```\n",
    "Review sentiment: {sentiment}\n",
    "\"\"\"\n",
    "response = get_response(prompt)\n",
    "print(response[1]['parts'][0])"
   ]
  },
  {
   "cell_type": "markdown",
   "id": "7f1e8fdb-3465-41f3-a305-b9fc949d8f4b",
   "metadata": {},
   "source": [
    "#### Remind the model to use details from the customer's email"
   ]
  },
  {
   "cell_type": "code",
   "execution_count": 178,
   "id": "51fea500-d898-4675-8bd0-a46bf4f45be0",
   "metadata": {},
   "outputs": [
    {
     "name": "stdout",
     "output_type": "stream",
     "text": [
      "Dear Valued Customer,\n",
      "\n",
      "Thank you for taking the time to provide us with your feedback. We appreciate your continued patronage.\n",
      "\n",
      "We sincerely regret to hear that you have experienced some concerns with the product's base and motor noise. We understand that these issues can be frustrating.\n",
      "\n",
      "As you mentioned, the warranty for your previous system has expired. However, we encourage you to reach out to our customer service team directly. They will be happy to explore any possible options or solutions with you.\n",
      "\n",
      "We value your loyalty and strive to provide our customers with high-quality products and support. Please do not hesitate to contact us if you have any further concerns or questions.\n",
      "\n",
      "Sincerely,\n",
      "AI customer agent\n"
     ]
    }
   ],
   "source": [
    "prompt = f\"\"\"\n",
    "You are a customer service AI assistant.\n",
    "Your task is to send an email reply to a valued customer.\n",
    "Given the customer email delimited by ```, \\\n",
    "Generate a reply to thank the customer for their review.\n",
    "If the sentiment is positive or neutral, thank them for \\\n",
    "their review.\n",
    "If the sentiment is negative, apologize and suggest that \\\n",
    "they can reach out to customer service. \n",
    "Make sure to use specific details from the review.\n",
    "Write in a concise and professional tone.\n",
    "Sign the email as `AI customer agent`.\n",
    "Customer review: ```{review}```\n",
    "Review sentiment: {sentiment}\n",
    "\"\"\"\n",
    "response = get_response(prompt, temperature=0.7)\n",
    "print(response[1]['parts'][0])"
   ]
  },
  {
   "cell_type": "markdown",
   "id": "d370621f-1975-4c65-8119-47df0bf2b20e",
   "metadata": {},
   "source": [
    "## Multi Turn Conversations\n",
    "\n",
    "You can utilize the chat format to have extended conversations with chatbots personalized or specialized for specific tasks or behaviors.\n",
    "\n",
    "### ChefCurry\n",
    "We can automate the collection of user prompts and assistant responses to build a  order bot. The Order Bot will take orders from all restaurants at a particular location at the university (for e.g. Curry Student Center). "
   ]
  },
  {
   "cell_type": "code",
   "execution_count": null,
   "id": "68e096a6-3790-458c-8944-ce619a7f4ed2",
   "metadata": {},
   "outputs": [],
   "source": [
    "# Configure the model \n",
    "model = genai.GenerativeModel(\n",
    "            model_name='gemini-1.5-pro-latest',\n",
    "            system_instruction=\"\"\"\n",
    "You are ChefCurry, an automated service to collect orders for the following 4 restaurants: \\\n",
    "1. Sweet Tomatoes, 2. Kigo Kitchen, 3. Popeye’s, 4. Starbucks. \\\n",
    "You must perform the following steps in the same order: \\\n",
    "Step 1: You first greet the customer with your name, and mention your \\\n",
    "functionality, which is to collect orders for any of the 4 restaurants by asking \\\n",
    "which restaurant the user would like to order from. \\\n",
    "Step 2: Based on the restaurant chosen, provide the menu overview and \\\n",
    "collect the order. \\\n",
    "Step 3: You wait to collect the entire order, then summarize it and \\\n",
    "check for a final time if the customer wants to add anything else. \\\n",
    "Step 4: Finally collect the payment. \\\n",
    "Make sure to clarify all options, extras and sizes to uniquely \\\n",
    "identify the item from the menu.\\\n",
    "You respond in a short, very conversational friendly style. \\\n",
    "The Starbucks menu includes \\\n",
    "Coffee: \\\n",
    "Americano 2.95 (Tall), 3.45 (Grande), 3.95 (Venti) \\\n",
    "Caffe Latte 3.65 (Tall), 4.15 (Grande), 4.65 (Venti) \\\n",
    "Tea: \\\n",
    "Chai Tea Latte 3.45 (Tall), 4.45 (Grande), 4.95 (Venti) \\\n",
    "Green Tea Latte 3.45 (Tall), 4.45 (Grande), 4.95 (Venti) \\\n",
    "Food \\\n",
    "Blueberry Muffin 2.95 \\\n",
    "Chocolate Croissant 3.45 \\\n",
    "The Sweet Tomatoes menu includes \\\n",
    "Sweet Tomatoes Pie 17.35 (Medium) 21.95 (Large) \\\n",
    "Slices: \\\n",
    "Cheese 3.75 \\\n",
    "Pepperoni 4.50 \\\n",
    "The Kigo Kitchen menu includes \\\n",
    "Bowls: \\\n",
    "Teriyaki Chicken Bowl 8.99 \\\n",
    "Spicy Pork Bowl 9.49 \\\n",
    "Noodles \\\n",
    "Soba Noodle Salad 7.99 \\\n",
    "Sides: \\\n",
    "Edamame 3.99 \\\n",
    "Gyoza 4.99 \\\n",
    "The Popeye's menu includes \\\n",
    "Chicken: \\\n",
    "3-Piece Chicken Tenders 5.99 \\\n",
    "Classic Chicken Sandwich 3.99 \\\n",
    "Sides\n",
    "Cajun Fries 2.49 \\\n",
    "Red Beans and Rice 2.99 \\\n",
    "Desserts: \\\n",
    "Apple Pie 1.69 \\\n",
    "\"\"\")"
   ]
  },
  {
   "cell_type": "code",
   "execution_count": null,
   "id": "11440acb-cc17-419a-8998-0cf0436bb46f",
   "metadata": {},
   "outputs": [],
   "source": [
    "def collect_messages(_):\n",
    "    global history\n",
    "    prompt = text_input.value\n",
    "    text_input.value = ''\n",
    "\n",
    "    history = get_response(prompt, history, 0.7)\n",
    "    response = history[len(history)-1]['parts'][0]\n",
    "    panels.append(\n",
    "        pn.Row('User:', pn.pane.Markdown(prompt, width=600)))\n",
    "    panels.append(\n",
    "        pn.Row('Assistant:', pn.pane.Markdown(response, width=600)))\n",
    "\n",
    "    return pn.Column(*panels)"
   ]
  },
  {
   "cell_type": "code",
   "execution_count": null,
   "id": "b927d226-a912-4880-b562-99db1af378f8",
   "metadata": {},
   "outputs": [],
   "source": [
    "history = []\n",
    "text_input = pn.widgets.TextInput(value='Hi', placeholder='Enter your text here...')\n",
    "button = pn.widgets.Button(name='Chat!', button_type='primary')\n",
    "chat_output = pn.bind(collect_messages, button)\n",
    "\n",
    "chatbot_interface = pn.Column(\n",
    "    text_input,\n",
    "    pn.Row(button),\n",
    "    pn.panel(chat_output, loading_indictor=True, height=300)\n",
    ")\n",
    "\n",
    "chatbot_interface   "
   ]
  }
 ],
 "metadata": {
  "kernelspec": {
   "display_name": "Python 3 (ipykernel)",
   "language": "python",
   "name": "python3"
  },
  "language_info": {
   "codemirror_mode": {
    "name": "ipython",
    "version": 3
   },
   "file_extension": ".py",
   "mimetype": "text/x-python",
   "name": "python",
   "nbconvert_exporter": "python",
   "pygments_lexer": "ipython3",
   "version": "3.11.7"
  }
 },
 "nbformat": 4,
 "nbformat_minor": 5
}
